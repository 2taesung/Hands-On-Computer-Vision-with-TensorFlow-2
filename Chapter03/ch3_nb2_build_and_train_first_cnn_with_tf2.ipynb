{
 "cells": [
  {
   "cell_type": "markdown",
   "metadata": {
    "collapsed": true
   },
   "source": [
    "<p style=\"border: 1px solid #e7692c; border-left: 15px solid #e7692c; padding: 10px; text-align:justify;\">\n",
    "    <strong style=\"color: #e7692c\">Tip.</strong> <a style=\"color: #000000;\" href=\"https://nbviewer.jupyter.org/github/PacktPublishing/Hands-On-Computer-Vision-with-Tensorflow/blob/master/ch3/ch3_nb2_build_and_train_first_cnn_with_tf2.ipynb\" title=\"View with Jupyter Online\">Click here to view this notebook on <code>nbviewer.jupyter.org</code></a>. \n",
    "    <br/>These notebooks are better read there, as Github default viewer ignores some of the formatting and interactive content.\n",
    "    </p>"
   ]
  },
  {
   "cell_type": "markdown",
   "metadata": {
    "collapsed": true
   },
   "source": [
    "<table style=\"font-size: 1em; padding: 0; margin: 0;\">\n",
    "    <tr style=\"vertical-align: top; padding: 0; margin: 0;\">\n",
    "        <td style=\"vertical-align: top; padding: 0; margin: 0; padding-right: 15px;\">\n",
    "    <p style=\"background: #363636; color:#ffffff; text-align:justify; padding: 10px 25px;\">\n",
    "        <strong style=\"font-size: 1.0em;\"><span style=\"font-size: 1.2em;\"><span style=\"color: #e7692c;\">Hands-on</span> Computer Vision with TensorFlow 2</span><br/>by <em>Eliot Andres</em> & <em>Benjamin Planche</em> (Packt Pub.)</strong><br/><br/>\n",
    "        <strong>> Chapter 3: Modern Neural Networks</strong><br/>\n",
    "    </p>\n",
    "\n",
    "<h1 style=\"width: 100%; text-align: left; padding: 0px 25px;\"><small style=\"color: #e7692c;\">Notebook 2:</small><br/>Building and Training our First CNN<br/>with TensorFlow 2 and Keras</h1>\n",
    "<br/>\n",
    "<p style=\"border-left: 15px solid #363636; text-align:justify; padding: 0 10px;\">\n",
    "    This notebook presents how to implement the <strong><em>LeNet-5</em> architecture</strong> as presented in the book, and applies it to <strong>hand-written digit recognition</strong> (on the MNIST dataset).\n",
    "<br/>\n",
    "<p style=\"border-left: 15px solid #e7692c; padding: 0 10px; text-align:justify;\">\n",
    "    <strong style=\"color: #e7692c;\">Tip.</strong> The notebooks shared on this git repository illustrate some of notions from the book \"<em><strong>Hands-on Computer Vision with TensorFlow 2</strong></em>\" written by Eliot Andres and Benjamin Planche and published by Packt. If you enjoyed the insights shared here, <strong>please consider acquiring the book!</strong>\n",
    "<br/><br/>\n",
    "The book provides further guidance for those eager to learn about computer vision and to harness the power of TensorFlow 2 and Keras to build performant recognition systems for object detection, segmentation, video processing, smartphone applications, and more.</p>\n",
    "        </td>\n",
    "        <td style=\"vertical-align: top; padding: 0; margin: 0; width: 250px;\">\n",
    "    <a href=\"https://www.packtpub.com\" title=\"Buy on Packt!\">\n",
    "        <img src=\"../banner_images/book_cover.png\" width=250>\n",
    "    </a>\n",
    "    <p style=\"background: #e7692c; color:#ffffff; padding: 10px; text-align:justify;\"><strong>Leverage deep learning to create powerful image processing apps with TensorFlow 2 and Keras. <br/></strong>Get the book for more insights!</p>\n",
    "    <ul style=\"height: 32px; white-space: nowrap; text-align: center; margin: 0px; padding: 0px; padding-top: 10px;\">\n",
    "    <li style=\"display: inline-block; height: 100%; vertical-align: middle; float: left; margin: 5px; padding: 0px;\">\n",
    "        <a href=\"https://www.packtpub.com\" title=\"Get the book on Amazon!\">\n",
    "        <img style=\"vertical-align: middle; max-width: 72px; max-height: 32px;\" src=\"../banner_images/logo_amazon.png\" width=\"75px\">\n",
    "        </a>\n",
    "    </li>\n",
    "    <li style=\"display: inline-block; height: 100%; vertical-align: middle; float: left; margin: 5px; padding: 0px;\">\n",
    "        <a href=\"https://www.packtpub.com\" title=\"Get your Packt book!\">\n",
    "        <img style=\"vertical-align: middle; max-width: 72px; max-height: 32px;\" src=\"../banner_images/logo_packt.png\" width=\"75px\">\n",
    "        </a>\n",
    "    </li>\n",
    "    <li style=\"display: inline-block; height: 100%; vertical-align: middle; float: left; margin: 5px; padding: 0px;\">\n",
    "        <a href=\"https://www.packtpub.com\" title=\"Get the book on O'Reilly Safari!\">\n",
    "        <img style=\"vertical-align: middle; max-width: 72px; max-height: 32px;\" src=\"../banner_images/logo_oreilly.png\" width=\"75px\">\n",
    "        </a>\n",
    "    </li>\n",
    "    </ul>\n",
    "        </td>\n",
    "        </tr>\n",
    "        </table>"
   ]
  },
  {
   "cell_type": "code",
   "execution_count": 1,
   "metadata": {},
   "outputs": [],
   "source": [
    "import tensorflow as tf"
   ]
  },
  {
   "cell_type": "markdown",
   "metadata": {},
   "source": [
    "## Preparing the Data"
   ]
  },
  {
   "cell_type": "markdown",
   "metadata": {},
   "source": [
    "As presented in [Chapter 2](../ch2), we use Tensorflow and Keras helpers to load the commonly-used [MNIST](http://yann.lecun.com/exdb/mnist) training and testing datasets[$^1$](#ref) (Yann LeCun and Corinna Cortes hold all copyrights for this dataset). We also normalize the images (setting the pixel values from `[0, 255]` to `[0, 1]` and reshape them properly (as Tensorflow stores them as column-vectors):"
   ]
  },
  {
   "cell_type": "code",
   "execution_count": 2,
   "metadata": {},
   "outputs": [],
   "source": [
    "num_classes = 10\n",
    "img_rows, img_cols, img_ch = 28, 28, 1\n",
    "input_shape = (img_rows, img_cols, img_ch)"
   ]
  },
  {
   "cell_type": "code",
   "execution_count": 3,
   "metadata": {},
   "outputs": [],
   "source": [
    "(x_train, y_train), (x_test, y_test) = tf.keras.datasets.mnist.load_data()\n",
    "x_train, x_test = x_train / 255.0, x_test / 255.0\n",
    "\n",
    "x_train = x_train.reshape(x_train.shape[0], *input_shape)\n",
    "x_test = x_test.reshape(x_test.shape[0], *input_shape)"
   ]
  },
  {
   "cell_type": "markdown",
   "metadata": {},
   "source": [
    "## Building and Training LeNet-5"
   ]
  },
  {
   "cell_type": "markdown",
   "metadata": {},
   "source": [
    "We have demonstrated how CNNs can be implemented different ways depending on the _level of parametrization_ versus _succinctness_ one needs. In this case, we will use the Keras API to showcase once again how straightforward it makes implementing and using neural networks."
   ]
  },
  {
   "cell_type": "markdown",
   "metadata": {},
   "source": [
    "### Instantiating Convolutional Layers"
   ]
  },
  {
   "cell_type": "markdown",
   "metadata": {},
   "source": [
    "In the previous notebook, we presented how one can perform convolutions on images. However, in neural networks, we want the convolutions' filters to be ***trainable***, and we may want to add a ***bias*** to the results and apply an ***activation function***.\n",
    "\n",
    "We thus need to wrap the convolution operation into a `Layer` object, similar to how the fully-connected layer we implemented in Chapter 1 was built around the matrix operations.\n",
    "\n",
    "TensorFlow 2/Keras provides its own `tf.keras.Layer` class we can extend. We demonstrate below how a simple convolution layer can be dfined this way:"
   ]
  },
  {
   "cell_type": "code",
   "execution_count": 4,
   "metadata": {},
   "outputs": [],
   "source": [
    "class SimpleConvolutionLayer(tf.keras.layers.Layer):\n",
    "\n",
    "    def __init__(self, num_kernels=32, kernel_size=(3, 3), strides=(1, 1), use_bias=True):\n",
    "        \"\"\"\n",
    "        Initialize the layer.\n",
    "        :param num_kernels:     Number of kernels for the convolution\n",
    "        :param kernel_size:     Kernel size (H x W)\n",
    "        :param strides:         Vertical and horizontal stride as list\n",
    "        :param use_bias:        Flag to add a bias after covolution / before activation\n",
    "        \"\"\"\n",
    "        # First, we have to call the `Layer` super __init__(), as it initializes hidden mechanisms:\n",
    "        super().__init__()  \n",
    "        # Then we assign the parameters:\n",
    "        self.num_kernels = num_kernels\n",
    "        self.kernel_size = kernel_size\n",
    "        self.strides = strides\n",
    "        self.use_bias = use_bias\n",
    "\n",
    "    def build(self, input_shape):\n",
    "        \"\"\"\n",
    "        Build the layer, initializing its parameters according to the input shape.\n",
    "        This function will be internally called the first time the layer is used, though\n",
    "        it can also be manually called.\n",
    "        :param input_shape:     Input shape the layer will receive (e.g. B x H x W x C)\n",
    "        \"\"\"\n",
    "        # We are provided with the input shape here, so we know the number of input channels:\n",
    "        num_input_channels = input_shape[-1]  # assuming shape format BHWC\n",
    "\n",
    "        # Now we know how the shape of the tensor representing the kernels should be:\n",
    "        kernels_shape = (*self.kernel_size, num_input_channels, self.num_kernels)\n",
    "\n",
    "        # For this example, we initialize the filters with values picked from a Glorot distribution:\n",
    "        glorot_uni_initializer = tf.initializers.GlorotUniform()\n",
    "        self.kernels = self.add_weight(name='kernels',\n",
    "                                       shape=kernels_shape,\n",
    "                                       initializer=glorot_uni_initializer,\n",
    "                                       trainable=True)  # and we make the variable trainable.\n",
    "\n",
    "        if self.use_bias:  # If bias should be added, we initialize its variable too:\n",
    "            self.bias = self.add_weight(name='bias',\n",
    "                                        shape=(self.num_kernels,),\n",
    "                                        initializer='random_normal',  # e.g., using normal distribution.\n",
    "                                        trainable=True)\n",
    "\n",
    "    def call(self, inputs):\n",
    "        \"\"\"\n",
    "        Call the layer and perform its operations on the input tensors\n",
    "        :param inputs:  Input tensor\n",
    "        :return:        Output tensor\n",
    "        \"\"\"\n",
    "        # We perform the convolution:\n",
    "        z = tf.nn.conv2d(inputs, self.kernels, strides=[1, *self.strides, 1], padding='VALID')\n",
    "\n",
    "        if self.use_bias:  # we add the bias if requested:\n",
    "            z = z + self.bias\n",
    "        # Finally, we apply the activation function (e.g. ReLU):\n",
    "        return tf.nn.relu(z)\n",
    "\n",
    "    def get_config(self):\n",
    "        \"\"\"\n",
    "        Helper function to define the layer and its parameters.\n",
    "        :return:        Dictionary containing the layer's configuration\n",
    "        \"\"\"\n",
    "        return {'num_kernels': self.num_kernels,\n",
    "                'kernel_size': self.kernel_size,\n",
    "                'strides': self.strides,\n",
    "                'use_bias': self.use_bias}"
   ]
  },
  {
   "cell_type": "markdown",
   "metadata": {},
   "source": [
    "Most of TensorFlow mathematical operations (e.g. in `tf.maths` and `tf.nn`) already have their derivatives defined by the framework. \n",
    "Therefore, as long as a layer is composed of such operations, **we do not have to manually define its backward propagation**. TensorFlow will automatically cover this, which saves a lot of efforts!\n",
    "\n",
    "The convolutional layer we just implemented is therefore fully operational, and ready to be used inside a CNN, as we will demonstrate right away.\n",
    "\n",
    "***Note:*** As convolutional layers are the most basic component of CNNs, TensorFlow obviously provides its own `tf.keras.layers.Conv2D` class. The module `tf.keras.layers` contains a large variety of pre-implemented standard layers, which we recommend to use whenever possible (as they have more advacned interfaces and optimized operations). For the sake of demonstration, we will still stick to our own simpler `SimpleConvolutionLayer` for the rest of this notebook, while using other Keras pre-defined layers."
   ]
  },
  {
   "cell_type": "markdown",
   "metadata": {},
   "source": [
    "### Implementing LeNet-5"
   ]
  },
  {
   "cell_type": "markdown",
   "metadata": {},
   "source": [
    "***LeNet-5***[$^2$](#ref) is a simple CNN composed of 7 layers (2 *conv*, 2 *max-pool*, 3 *FC* + 1 helper layer to flatten the feature maps before the *FC*). For more details, we invite our readers to go back to Chapter 3.\n",
    "\n",
    "Below, we thus present how one can extend the `tf.keras.Model` class to define a custom architecture:"
   ]
  },
  {
   "cell_type": "code",
   "execution_count": 5,
   "metadata": {},
   "outputs": [],
   "source": [
    "from tensorflow.keras import Model\n",
    "from tensorflow.keras.layers import Conv2D, MaxPooling2D, Flatten, Dense"
   ]
  },
  {
   "cell_type": "code",
   "execution_count": 6,
   "metadata": {},
   "outputs": [],
   "source": [
    "class LeNet5(Model):\n",
    "    \n",
    "    def __init__(self, num_classes):\n",
    "        \"\"\"\n",
    "        Initialize the model.\n",
    "        :param num_classes:     Number of classes to predict from\n",
    "        \"\"\"\n",
    "        super(LeNet5, self).__init__()\n",
    "        # We instantiate the various layers composing LeNet-5:\n",
    "        self.conv1 = SimpleConvolutionLayer(6, kernel_size=(5, 5))\n",
    "        self.conv2 = SimpleConvolutionLayer(16, kernel_size=(5, 5))\n",
    "        # ... or using the existing and (recommended) Conv2D class:\n",
    "        # self.conv1 = Conv2D(6, kernel_size=(5, 5), padding='same', activation='relu')\n",
    "        # self.conv2 = Conv2D(16, kernel_size=(5, 5), activation='relu')\n",
    "        self.max_pool = MaxPooling2D(pool_size=(2, 2))\n",
    "        self.flatten = Flatten()\n",
    "        self.dense1 = Dense(120, activation='relu')\n",
    "        self.dense2 = Dense(84, activation='relu')\n",
    "        self.dense3 = Dense(num_classes, activation='softmax')\n",
    "        \n",
    "    def call(self, inputs):\n",
    "        \"\"\"\n",
    "        Call the layers and perform their operations on the input tensors\n",
    "        :param inputs:  Input tensor\n",
    "        :return:        Output tensor\n",
    "        \"\"\"\n",
    "        x = self.max_pool(self.conv1(inputs))        # 1st block\n",
    "        x = self.max_pool(self.conv2(x))             # 2nd block\n",
    "        x = self.flatten(x)\n",
    "        x = self.dense3(self.dense2(self.dense1(x))) # dense layers\n",
    "        return x"
   ]
  },
  {
   "cell_type": "markdown",
   "metadata": {},
   "source": [
    "***Note:*** For those who already experimented with [PyTorch](https://pytorch.org), another machine learning framework, this functional object-oriented approach to building neural networks may seem familiar. It has been adopted by TensorFlow 2."
   ]
  },
  {
   "cell_type": "markdown",
   "metadata": {},
   "source": [
    "## Classiyfing MNIST with a CNN\n"
   ]
  },
  {
   "cell_type": "markdown",
   "metadata": {},
   "source": [
    "Now we can instantiate and compile our model for digit classification. To train it for this task, we instantiate the optimizer (a simple _SGD_ one for this example) and define the loss (the _categorical cross-entropy_).\n",
    "\n",
    "***Note:*** The Keras loss named `\"sparse_categorical_crossentropy\"` performs the same cross-entropy operation as the `\"categorical_crossentropy\"`, but the former directly takes the ground-truth labels as inputs, while the latter requires the ground-truth labels to be _one-hotted_ before. Using the `\"sparse_...\"` loss thus saves us from manually having to transform the labels... "
   ]
  },
  {
   "cell_type": "code",
   "execution_count": 7,
   "metadata": {},
   "outputs": [],
   "source": [
    "model = LeNet5(num_classes)\n",
    "model.compile(optimizer='sgd', loss='sparse_categorical_crossentropy', metrics=['accuracy'])"
   ]
  },
  {
   "cell_type": "markdown",
   "metadata": {},
   "source": [
    "Having sub-classed `tf.keras.Model`, our model has all its functionalities. For instance, we can call `model.summary()` to print a summary of its architecture:"
   ]
  },
  {
   "cell_type": "code",
   "execution_count": 8,
   "metadata": {
    "scrolled": true
   },
   "outputs": [
    {
     "name": "stdout",
     "output_type": "stream",
     "text": [
      "Model: \"le_net5\"\n",
      "_________________________________________________________________\n",
      "Layer (type)                 Output Shape              Param #   \n",
      "=================================================================\n",
      "simple_convolution_layer (Si multiple                  156       \n",
      "_________________________________________________________________\n",
      "simple_convolution_layer_1 ( multiple                  2416      \n",
      "_________________________________________________________________\n",
      "max_pooling2d (MaxPooling2D) multiple                  0         \n",
      "_________________________________________________________________\n",
      "flatten (Flatten)            multiple                  0         \n",
      "_________________________________________________________________\n",
      "dense (Dense)                multiple                  30840     \n",
      "_________________________________________________________________\n",
      "dense_1 (Dense)              multiple                  10164     \n",
      "_________________________________________________________________\n",
      "dense_2 (Dense)              multiple                  850       \n",
      "=================================================================\n",
      "Total params: 44,426\n",
      "Trainable params: 44,426\n",
      "Non-trainable params: 0\n",
      "_________________________________________________________________\n"
     ]
    }
   ],
   "source": [
    "# We can call `model.summary()` only if the model was built before. \n",
    "# It is normally done automatically at the first use of the network,\n",
    "# inferring the input shapes from the samples the network is given.\n",
    "# For instance, the command below would build the network (then use it for prediction):\n",
    "_ = model.predict(x_test[:10])\n",
    "\n",
    "# But we can build the model manually otherwise, providing the batched\n",
    "# input shape ourselves:\n",
    "batched_input_shape = tf.TensorShape((None, *input_shape))\n",
    "model.build(input_shape=batched_input_shape)\n",
    "\n",
    "# Method to visualize the architecture of the network:\n",
    "model.summary()"
   ]
  },
  {
   "cell_type": "markdown",
   "metadata": {},
   "source": [
    "Before launching the training, we also instantiate some Keras callbacks, i.e., utility functions automatically called at specific points during the training (before/after batch training, before/after a full epoch, etc.), in order to monitor it:"
   ]
  },
  {
   "cell_type": "code",
   "execution_count": 9,
   "metadata": {},
   "outputs": [],
   "source": [
    "callbacks = [\n",
    "    # Callback to interrupt the training if the validation loss (`val_loss`) stops improving for over 3 epochs:\n",
    "    tf.keras.callbacks.EarlyStopping(patience=3, monitor='val_loss'),\n",
    "    # Callback to log the graph, losses and metrics into TensorBoard (saving log files in `./logs` directory):\n",
    "    tf.keras.callbacks.TensorBoard(log_dir='./logs', histogram_freq=1, write_graph=True)]"
   ]
  },
  {
   "cell_type": "markdown",
   "metadata": {},
   "source": [
    "(The Tensorboard callback allows us to monitor the training from Tensorboard. For that, open a console and launch the programm with the command \"`tensorboard --logdir=./logs`\". You can then access Tensorboard from a browser, via the URL \"[`localhost:6006`](localhost:6006)\".)"
   ]
  },
  {
   "cell_type": "markdown",
   "metadata": {},
   "source": [
    "We can now pass everything to our model to train it:\n"
   ]
  },
  {
   "cell_type": "code",
   "execution_count": 10,
   "metadata": {},
   "outputs": [
    {
     "name": "stdout",
     "output_type": "stream",
     "text": [
      "Train on 60000 samples, validate on 10000 samples\n",
      "Epoch 1/35\n",
      "60000/60000 - 7s - loss: 1.8530 - accuracy: 0.4930 - val_loss: 0.8307 - val_accuracy: 0.8128\n",
      "Epoch 2/35\n",
      "60000/60000 - 6s - loss: 0.5104 - accuracy: 0.8630 - val_loss: 0.3465 - val_accuracy: 0.9029\n",
      "Epoch 3/35\n",
      "60000/60000 - 6s - loss: 0.3234 - accuracy: 0.9046 - val_loss: 0.2606 - val_accuracy: 0.9254\n",
      "Epoch 4/35\n",
      "60000/60000 - 6s - loss: 0.2641 - accuracy: 0.9212 - val_loss: 0.2223 - val_accuracy: 0.9357\n",
      "Epoch 5/35\n",
      "60000/60000 - 6s - loss: 0.2285 - accuracy: 0.9308 - val_loss: 0.1937 - val_accuracy: 0.9445\n",
      "Epoch 6/35\n",
      "60000/60000 - 6s - loss: 0.2031 - accuracy: 0.9390 - val_loss: 0.1749 - val_accuracy: 0.9500\n",
      "Epoch 7/35\n",
      "60000/60000 - 6s - loss: 0.1843 - accuracy: 0.9449 - val_loss: 0.1583 - val_accuracy: 0.9509\n",
      "Epoch 8/35\n",
      "60000/60000 - 6s - loss: 0.1692 - accuracy: 0.9491 - val_loss: 0.1475 - val_accuracy: 0.9569\n",
      "Epoch 9/35\n",
      "60000/60000 - 6s - loss: 0.1575 - accuracy: 0.9528 - val_loss: 0.1404 - val_accuracy: 0.9580\n",
      "Epoch 10/35\n",
      "60000/60000 - 6s - loss: 0.1476 - accuracy: 0.9554 - val_loss: 0.1288 - val_accuracy: 0.9611\n",
      "Epoch 11/35\n",
      "60000/60000 - 6s - loss: 0.1390 - accuracy: 0.9577 - val_loss: 0.1188 - val_accuracy: 0.9649\n",
      "Epoch 12/35\n",
      "60000/60000 - 6s - loss: 0.1324 - accuracy: 0.9598 - val_loss: 0.1170 - val_accuracy: 0.9651\n",
      "Epoch 13/35\n",
      "60000/60000 - 6s - loss: 0.1263 - accuracy: 0.9616 - val_loss: 0.1084 - val_accuracy: 0.9670\n",
      "Epoch 14/35\n",
      "60000/60000 - 6s - loss: 0.1205 - accuracy: 0.9634 - val_loss: 0.1104 - val_accuracy: 0.9674\n",
      "Epoch 15/35\n",
      "60000/60000 - 6s - loss: 0.1153 - accuracy: 0.9649 - val_loss: 0.1036 - val_accuracy: 0.9676\n",
      "Epoch 16/35\n",
      "60000/60000 - 6s - loss: 0.1115 - accuracy: 0.9657 - val_loss: 0.0974 - val_accuracy: 0.9703\n",
      "Epoch 17/35\n",
      "60000/60000 - 6s - loss: 0.1077 - accuracy: 0.9669 - val_loss: 0.0977 - val_accuracy: 0.9700\n",
      "Epoch 18/35\n",
      "60000/60000 - 6s - loss: 0.1038 - accuracy: 0.9682 - val_loss: 0.0946 - val_accuracy: 0.9713\n",
      "Epoch 19/35\n",
      "60000/60000 - 6s - loss: 0.1005 - accuracy: 0.9692 - val_loss: 0.0951 - val_accuracy: 0.9712\n",
      "Epoch 20/35\n",
      "60000/60000 - 6s - loss: 0.0981 - accuracy: 0.9700 - val_loss: 0.0872 - val_accuracy: 0.9743\n",
      "Epoch 21/35\n",
      "60000/60000 - 6s - loss: 0.0952 - accuracy: 0.9708 - val_loss: 0.0847 - val_accuracy: 0.9753\n",
      "Epoch 22/35\n",
      "60000/60000 - 6s - loss: 0.0924 - accuracy: 0.9711 - val_loss: 0.0829 - val_accuracy: 0.9757\n",
      "Epoch 23/35\n",
      "60000/60000 - 6s - loss: 0.0896 - accuracy: 0.9721 - val_loss: 0.0820 - val_accuracy: 0.9747\n",
      "Epoch 24/35\n",
      "60000/60000 - 6s - loss: 0.0874 - accuracy: 0.9728 - val_loss: 0.0794 - val_accuracy: 0.9759\n",
      "Epoch 25/35\n",
      "60000/60000 - 6s - loss: 0.0848 - accuracy: 0.9740 - val_loss: 0.0788 - val_accuracy: 0.9756\n",
      "Epoch 26/35\n",
      "60000/60000 - 6s - loss: 0.0828 - accuracy: 0.9741 - val_loss: 0.0799 - val_accuracy: 0.9755\n",
      "Epoch 27/35\n",
      "60000/60000 - 6s - loss: 0.0810 - accuracy: 0.9750 - val_loss: 0.0733 - val_accuracy: 0.9781\n",
      "Epoch 28/35\n",
      "60000/60000 - 6s - loss: 0.0793 - accuracy: 0.9752 - val_loss: 0.0746 - val_accuracy: 0.9773\n",
      "Epoch 29/35\n",
      "60000/60000 - 6s - loss: 0.0778 - accuracy: 0.9760 - val_loss: 0.0742 - val_accuracy: 0.9769\n",
      "Epoch 30/35\n",
      "60000/60000 - 6s - loss: 0.0755 - accuracy: 0.9764 - val_loss: 0.0725 - val_accuracy: 0.9775\n",
      "Epoch 31/35\n",
      "60000/60000 - 6s - loss: 0.0744 - accuracy: 0.9770 - val_loss: 0.0718 - val_accuracy: 0.9778\n",
      "Epoch 32/35\n",
      "60000/60000 - 6s - loss: 0.0727 - accuracy: 0.9771 - val_loss: 0.0672 - val_accuracy: 0.9795\n",
      "Epoch 33/35\n",
      "60000/60000 - 6s - loss: 0.0714 - accuracy: 0.9777 - val_loss: 0.0735 - val_accuracy: 0.9763\n",
      "Epoch 34/35\n",
      "60000/60000 - 6s - loss: 0.0699 - accuracy: 0.9790 - val_loss: 0.0697 - val_accuracy: 0.9795\n",
      "Epoch 35/35\n",
      "60000/60000 - 6s - loss: 0.0686 - accuracy: 0.9786 - val_loss: 0.0654 - val_accuracy: 0.9801\n"
     ]
    }
   ],
   "source": [
    "history = model.fit(x_train, y_train,\n",
    "                    batch_size=32, epochs=35, validation_data=(x_test, y_test), \n",
    "                    verbose=2,  # change to `verbose=1` to get a progress bar\n",
    "                                # (we opt for `verbose=2` here to reduce the log size)\n",
    "                    callbacks=callbacks)"
   ]
  },
  {
   "cell_type": "markdown",
   "metadata": {},
   "source": [
    "## Conclusion\n",
    "\n",
    "Given a machine with recent GPU(s), this training is quite fast (~0.1ms/image in our case). The final accuracy we obtain on the validation dataset (**~98%!**) is also much better compared to our previous attempts with simpler networks. Indeed, the relative error has been approximately divided by 5 (from ~5% to ~2% error), which is a significant improvement."
   ]
  },
  {
   "cell_type": "markdown",
   "metadata": {},
   "source": [
    "<a id=\"ref\"></a>\n",
    "#### References"
   ]
  },
  {
   "cell_type": "markdown",
   "metadata": {},
   "source": [
    "1. LeCun, Y., Cortes, C., Burges, C., 2010. MNIST handwritten digit database. AT&T Labs [Online]. Available: http://yann.lecun.com/exdb/mnist 2, 18.\n",
    "2. LeCun, Yann. \"*LeNet-5, convolutional neural networks.*\" [http://yann.lecun.com/exdb/lenet](http://yann.lecun.com/exdb/lenet) (2015): 20."
   ]
  }
 ],
 "metadata": {
  "kernelspec": {
   "display_name": "Python 3",
   "language": "python",
   "name": "python3"
  },
  "language_info": {
   "codemirror_mode": {
    "name": "ipython",
    "version": 3
   },
   "file_extension": ".py",
   "mimetype": "text/x-python",
   "name": "python",
   "nbconvert_exporter": "python",
   "pygments_lexer": "ipython3",
   "version": "3.6.7"
  }
 },
 "nbformat": 4,
 "nbformat_minor": 1
}
